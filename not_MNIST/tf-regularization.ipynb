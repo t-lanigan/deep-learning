{
 "cells": [
  {
   "cell_type": "markdown",
   "metadata": {},
   "source": [
    "\n",
    "## Deep Learning\n",
    "## Assignment 3\n",
    "\n",
    "Previously in 2_fullyconnected.ipynb, you trained a logistic regression and a neural network model.\n",
    "\n",
    "The goal of this assignment is to explore regularization techniques.\n"
   ]
  },
  {
   "cell_type": "code",
   "execution_count": 1,
   "metadata": {
    "collapsed": true
   },
   "outputs": [],
   "source": [
    "\n",
    "\n",
    "# These are all the modules we'll be using later. Make sure you can import them\n",
    "# before proceeding further.\n",
    "from __future__ import print_function\n",
    "import numpy as np\n",
    "import tensorflow as tf\n",
    "from six.moves import cPickle as pickle\n",
    "\n"
   ]
  },
  {
   "cell_type": "markdown",
   "metadata": {},
   "source": [
    "\n",
    "\n",
    "First reload the data we generated in notmist.ipynb.\n"
   ]
  },
  {
   "cell_type": "code",
   "execution_count": 2,
   "metadata": {
    "collapsed": false
   },
   "outputs": [
    {
     "name": "stdout",
     "output_type": "stream",
     "text": [
      "Training set (200000, 28, 28) (200000,)\n",
      "Validation set (10000, 28, 28) (10000,)\n",
      "Test set (10000, 28, 28) (10000,)\n"
     ]
    }
   ],
   "source": [
    "pickle_file = 'notMNIST.pickle'\n",
    "\n",
    "with open(pickle_file, 'rb') as f:\n",
    "    save = pickle.load(f)\n",
    "    train_dataset = save['train_dataset']\n",
    "    train_labels = save['train_labels']\n",
    "    valid_dataset = save['valid_dataset']\n",
    "    valid_labels = save['valid_labels']\n",
    "    test_dataset = save['test_dataset']\n",
    "    test_labels = save['test_labels']\n",
    "    del save  # hint to help gc free up memory\n",
    "    print('Training set', train_dataset.shape, train_labels.shape)\n",
    "    print('Validation set', valid_dataset.shape, valid_labels.shape)\n",
    "    print('Test set', test_dataset.shape, test_labels.shape)"
   ]
  },
  {
   "cell_type": "markdown",
   "metadata": {},
   "source": [
    "\n",
    "\n",
    "Reformat into a shape that's more adapted to the models we're going to train:\n",
    "\n",
    "* data as a flat matrix,\n",
    "* labels as float 1-hot encodings.\n",
    "\n"
   ]
  },
  {
   "cell_type": "code",
   "execution_count": 3,
   "metadata": {
    "collapsed": false
   },
   "outputs": [
    {
     "name": "stdout",
     "output_type": "stream",
     "text": [
      "Training set (200000, 784) (200000, 10)\n",
      "Validation set (10000, 784) (10000, 10)\n",
      "Test set (10000, 784) (10000, 10)\n"
     ]
    }
   ],
   "source": [
    "\n",
    "\n",
    "image_size = 28\n",
    "num_labels = 10\n",
    "\n",
    "def reformat(dataset, labels):\n",
    "    dataset = dataset.reshape((-1, image_size * image_size)).astype(np.float32)\n",
    "    # Map 1 to [0.0, 1.0, 0.0 ...], 2 to [0.0, 0.0, 1.0 ...]\n",
    "    labels = (np.arange(num_labels) == labels[:,None]).astype(np.float32)\n",
    "    return dataset, labels\n",
    "train_dataset, train_labels = reformat(train_dataset, train_labels)\n",
    "valid_dataset, valid_labels = reformat(valid_dataset, valid_labels)\n",
    "test_dataset, test_labels = reformat(test_dataset, test_labels)\n",
    "print('Training set', train_dataset.shape, train_labels.shape)\n",
    "print('Validation set', valid_dataset.shape, valid_labels.shape)\n",
    "print('Test set', test_dataset.shape, test_labels.shape)\n",
    "\n"
   ]
  },
  {
   "cell_type": "code",
   "execution_count": 5,
   "metadata": {
    "collapsed": true
   },
   "outputs": [],
   "source": [
    "def accuracy(predictions, labels):\n",
    "    return (100.0 * np.sum(np.argmax(predictions, 1) == np.argmax(labels, 1))\n",
    "            / predictions.shape[0])"
   ]
  },
  {
   "cell_type": "markdown",
   "metadata": {},
   "source": [
    "\n",
    "## Problem 1\n",
    "\n",
    "Introduce and tune L2 regularization for both logistic and neural network models. Remember that L2 amounts to adding a penalty on the norm of the weights to the loss. In TensorFlow, you can compute the L2 loss for a tensor t using nn.l2_loss(t). The right amount of regularization should improve your validation / test accuracy."
   ]
  },
  {
   "cell_type": "code",
   "execution_count": 9,
   "metadata": {
    "collapsed": false
   },
   "outputs": [],
   "source": [
    "#for NeuralNetwork model code is below\n",
    "#We will use SGD for training to save our time. Code is from Assignment 2\n",
    "#beta is the new parameter - controls level of regularization. Default is 0.01\n",
    "#but feel free to play with it\n",
    "#notice, we introduce L2 for both biases and weights of all layers\n",
    "\n",
    "beta = 0.01\n",
    "batch_size =100\n",
    "\n",
    "#building tensorflow graph\n",
    "graph = tf.Graph()\n",
    "with graph.as_default():\n",
    "            # Input data. For the training data, we use a placeholder that will be fed\n",
    "    # at run time with a training minibatch.\n",
    "    tf_train_dataset = tf.placeholder(tf.float32,\n",
    "                                                                        shape=(batch_size, image_size * image_size))\n",
    "    tf_train_labels = tf.placeholder(tf.float32, shape=(batch_size, num_labels))\n",
    "    tf_valid_dataset = tf.constant(valid_dataset)\n",
    "    tf_test_dataset = tf.constant(test_dataset)\n",
    "\n",
    "    #now let's build our new hidden layer\n",
    "    #that's how many hidden neurons we want\n",
    "    num_hidden_neurons = 1024\n",
    "    #its weights\n",
    "    hidden_weights = tf.Variable(\n",
    "        tf.truncated_normal([image_size * image_size, num_hidden_neurons]))\n",
    "    hidden_biases = tf.Variable(tf.zeros([num_hidden_neurons]))\n",
    "\n",
    "    #now the layer itself. It multiplies data by weights, adds biases\n",
    "    #and takes ReLU over result\n",
    "    hidden_layer = tf.nn.relu(tf.matmul(tf_train_dataset, hidden_weights) + hidden_biases)\n",
    "\n",
    "    #time to go for output linear layer\n",
    "    #out weights connect hidden neurons to output labels\n",
    "    #biases are added to output labels  \n",
    "    out_weights = tf.Variable(\n",
    "        tf.truncated_normal([num_hidden_neurons, num_labels]))  \n",
    "\n",
    "    out_biases = tf.Variable(tf.zeros([num_labels]))  \n",
    "\n",
    "    #compute output  \n",
    "    out_layer = tf.matmul(hidden_layer,out_weights) + out_biases\n",
    "    #our real output is a softmax of prior result\n",
    "    #and we also compute its cross-entropy to get our loss\n",
    "    #Notice - we introduce our L2 here\n",
    "    loss = (tf.reduce_mean(tf.nn.softmax_cross_entropy_with_logits(\n",
    "        out_layer, tf_train_labels) +\n",
    "        beta*tf.nn.l2_loss(hidden_weights) +\n",
    "        beta*tf.nn.l2_loss(hidden_biases) +\n",
    "        beta*tf.nn.l2_loss(out_weights) +\n",
    "        beta*tf.nn.l2_loss(out_biases)))\n",
    "\n",
    "    #now we just minimize this loss to actually train the network\n",
    "    optimizer = tf.train.GradientDescentOptimizer(0.5).minimize(loss)\n",
    "\n",
    "    #nice, now let's calculate the predictions on each dataset for evaluating the\n",
    "    #performance so far\n",
    "    # Predictions for the training, validation, and test data.\n",
    "    train_prediction = tf.nn.softmax(out_layer)\n",
    "    valid_relu = tf.nn.relu(  tf.matmul(tf_valid_dataset, hidden_weights) + hidden_biases)\n",
    "    valid_prediction = tf.nn.softmax( tf.matmul(valid_relu, out_weights) + out_biases) \n",
    "\n",
    "    test_relu = tf.nn.relu( tf.matmul( tf_test_dataset, hidden_weights) + hidden_biases)\n",
    "    test_prediction = tf.nn.softmax(tf.matmul(test_relu, out_weights) + out_biases)\n"
   ]
  },
  {
   "cell_type": "code",
   "execution_count": 10,
   "metadata": {
    "collapsed": false
   },
   "outputs": [
    {
     "name": "stdout",
     "output_type": "stream",
     "text": [
      "Initialized\n",
      "Minibatch loss at step 0: 3583.177246\n",
      "Minibatch accuracy: 10.0%\n",
      "Validation accuracy: 33.4%\n",
      "Test accuracy: 36.0%\n",
      "Minibatch loss at step 500: 21.097021\n",
      "Minibatch accuracy: 90.0%\n",
      "Validation accuracy: 84.2%\n",
      "Test accuracy: 90.7%\n",
      "Minibatch loss at step 1000: 0.795934\n",
      "Minibatch accuracy: 87.0%\n",
      "Validation accuracy: 82.9%\n",
      "Test accuracy: 90.0%\n",
      "Minibatch loss at step 1500: 0.690920\n",
      "Minibatch accuracy: 86.0%\n",
      "Validation accuracy: 82.1%\n",
      "Test accuracy: 89.0%\n",
      "Minibatch loss at step 2000: 0.906884\n",
      "Minibatch accuracy: 76.0%\n",
      "Validation accuracy: 81.1%\n",
      "Test accuracy: 88.2%\n",
      "Minibatch loss at step 2500: 0.961095\n",
      "Minibatch accuracy: 76.0%\n",
      "Validation accuracy: 83.0%\n",
      "Test accuracy: 89.6%\n",
      "Minibatch loss at step 3000: 0.703430\n",
      "Minibatch accuracy: 85.0%\n",
      "Validation accuracy: 81.8%\n",
      "Test accuracy: 88.8%\n"
     ]
    }
   ],
   "source": [
    "#now is the actual training on the ANN we built\n",
    "#we will run it for some number of steps and evaluate the progress after \n",
    "#every 500 steps\n",
    "\n",
    "#number of steps we will train our ANN\n",
    "num_steps = 3001\n",
    "\n",
    "#actual training\n",
    "with tf.Session(graph=graph) as session:\n",
    "    tf.initialize_all_variables().run()\n",
    "    print(\"Initialized\")\n",
    "    for step in range(num_steps):\n",
    "        # Pick an offset within the training data, which has been randomized.\n",
    "        # Note: we could use better randomization across epochs.\n",
    "        offset = (step * batch_size) % (train_labels.shape[0] - batch_size)\n",
    "        # Generate a minibatch.\n",
    "        batch_data = train_dataset[offset:(offset + batch_size), :]\n",
    "        batch_labels = train_labels[offset:(offset + batch_size), :]\n",
    "        # Prepare a dictionary telling the session where to feed the minibatch.\n",
    "        # The key of the dictionary is the placeholder node of the graph to be fed,\n",
    "        # and the value is the numpy array to feed to it.\n",
    "        feed_dict = {tf_train_dataset : batch_data, tf_train_labels : batch_labels}\n",
    "        _, l, predictions = session.run(\n",
    "            [optimizer, loss, train_prediction], feed_dict=feed_dict)\n",
    "        if (step % 500 == 0):\n",
    "            print(\"Minibatch loss at step %d: %f\" % (step, l))\n",
    "            print(\"Minibatch accuracy: %.1f%%\" % accuracy(predictions, batch_labels))\n",
    "            print(\"Validation accuracy: %.1f%%\" % accuracy(\n",
    "                valid_prediction.eval(), valid_labels))\n",
    "            print(\"Test accuracy: %.1f%%\" % accuracy(test_prediction.eval(), test_labels))\n"
   ]
  },
  {
   "cell_type": "markdown",
   "metadata": {},
   "source": [
    "## Problem 2\n",
    "\n",
    "Let's demonstrate an extreme case of overfitting. Restrict your training data to just a few batches. What happens?"
   ]
  },
  {
   "cell_type": "code",
   "execution_count": 12,
   "metadata": {
    "collapsed": true
   },
   "outputs": [],
   "source": [
    "#now a batch size of 10 is used.\n",
    "\n",
    "beta = 0.01\n",
    "batch_size =10\n",
    "\n",
    "#building tensorflow graph\n",
    "graph = tf.Graph()\n",
    "with graph.as_default():\n",
    "            # Input data. For the training data, we use a placeholder that will be fed\n",
    "    # at run time with a training minibatch.\n",
    "    tf_train_dataset = tf.placeholder(tf.float32,\n",
    "                                                                        shape=(batch_size, image_size * image_size))\n",
    "    tf_train_labels = tf.placeholder(tf.float32, shape=(batch_size, num_labels))\n",
    "    tf_valid_dataset = tf.constant(valid_dataset)\n",
    "    tf_test_dataset = tf.constant(test_dataset)\n",
    "\n",
    "    #now let's build our new hidden layer\n",
    "    #that's how many hidden neurons we want\n",
    "    num_hidden_neurons = 1024\n",
    "    #its weights\n",
    "    hidden_weights = tf.Variable(\n",
    "        tf.truncated_normal([image_size * image_size, num_hidden_neurons]))\n",
    "    hidden_biases = tf.Variable(tf.zeros([num_hidden_neurons]))\n",
    "\n",
    "    #now the layer itself. It multiplies data by weights, adds biases\n",
    "    #and takes ReLU over result\n",
    "    hidden_layer = tf.nn.relu(tf.matmul(tf_train_dataset, hidden_weights) + hidden_biases)\n",
    "\n",
    "    #time to go for output linear layer\n",
    "    #out weights connect hidden neurons to output labels\n",
    "    #biases are added to output labels  \n",
    "    out_weights = tf.Variable(\n",
    "        tf.truncated_normal([num_hidden_neurons, num_labels]))  \n",
    "\n",
    "    out_biases = tf.Variable(tf.zeros([num_labels]))  \n",
    "\n",
    "    #compute output  \n",
    "    out_layer = tf.matmul(hidden_layer,out_weights) + out_biases\n",
    "    #our real output is a softmax of prior result\n",
    "    #and we also compute its cross-entropy to get our loss\n",
    "    #Notice - we introduce our L2 here\n",
    "    loss = (tf.reduce_mean(tf.nn.softmax_cross_entropy_with_logits(\n",
    "        out_layer, tf_train_labels) +\n",
    "        beta*tf.nn.l2_loss(hidden_weights) +\n",
    "        beta*tf.nn.l2_loss(hidden_biases) +\n",
    "        beta*tf.nn.l2_loss(out_weights) +\n",
    "        beta*tf.nn.l2_loss(out_biases)))\n",
    "\n",
    "    #now we just minimize this loss to actually train the network\n",
    "    optimizer = tf.train.GradientDescentOptimizer(0.5).minimize(loss)\n",
    "\n",
    "    #nice, now let's calculate the predictions on each dataset for evaluating the\n",
    "    #performance so far\n",
    "    # Predictions for the training, validation, and test data.\n",
    "    train_prediction = tf.nn.softmax(out_layer)\n",
    "    valid_relu = tf.nn.relu(  tf.matmul(tf_valid_dataset, hidden_weights) + hidden_biases)\n",
    "    valid_prediction = tf.nn.softmax( tf.matmul(valid_relu, out_weights) + out_biases) \n",
    "\n",
    "    test_relu = tf.nn.relu( tf.matmul( tf_test_dataset, hidden_weights) + hidden_biases)\n",
    "    test_prediction = tf.nn.softmax(tf.matmul(test_relu, out_weights) + out_biases)"
   ]
  },
  {
   "cell_type": "code",
   "execution_count": 13,
   "metadata": {
    "collapsed": false
   },
   "outputs": [
    {
     "name": "stdout",
     "output_type": "stream",
     "text": [
      "Initialized\n",
      "Minibatch loss at step 0: 3419.661377\n",
      "Minibatch accuracy: 10.0%\n",
      "Validation accuracy: 15.4%\n",
      "Test accuracy: 16.2%\n",
      "Minibatch loss at step 500: 1604.105347\n",
      "Minibatch accuracy: 50.0%\n",
      "Validation accuracy: 56.8%\n",
      "Test accuracy: 63.8%\n",
      "Minibatch loss at step 1000: 118.130753\n",
      "Minibatch accuracy: 60.0%\n",
      "Validation accuracy: 53.1%\n",
      "Test accuracy: 57.8%\n",
      "Minibatch loss at step 1500: 9.000898\n",
      "Minibatch accuracy: 60.0%\n",
      "Validation accuracy: 52.8%\n",
      "Test accuracy: 57.5%\n",
      "Minibatch loss at step 2000: 3.859069\n",
      "Minibatch accuracy: 50.0%\n",
      "Validation accuracy: 56.7%\n",
      "Test accuracy: 62.9%\n",
      "Minibatch loss at step 2500: 2.241075\n",
      "Minibatch accuracy: 80.0%\n",
      "Validation accuracy: 62.4%\n",
      "Test accuracy: 68.0%\n",
      "Minibatch loss at step 3000: 3.015039\n",
      "Minibatch accuracy: 60.0%\n",
      "Validation accuracy: 62.9%\n",
      "Test accuracy: 69.7%\n"
     ]
    }
   ],
   "source": [
    "#now is the actual training on the ANN we built\n",
    "#we will run it for some number of steps and evaluate the progress after \n",
    "#every 500 steps\n",
    "\n",
    "#number of steps we will train our ANN\n",
    "num_steps = 3001\n",
    "\n",
    "#actual training\n",
    "with tf.Session(graph=graph) as session:\n",
    "    tf.initialize_all_variables().run()\n",
    "    print(\"Initialized\")\n",
    "    for step in range(num_steps):\n",
    "        # Pick an offset within the training data, which has been randomized.\n",
    "        # Note: we could use better randomization across epochs.\n",
    "        offset = (step * batch_size) % (train_labels.shape[0] - batch_size)\n",
    "        # Generate a minibatch.\n",
    "        batch_data = train_dataset[offset:(offset + batch_size), :]\n",
    "        batch_labels = train_labels[offset:(offset + batch_size), :]\n",
    "        # Prepare a dictionary telling the session where to feed the minibatch.\n",
    "        # The key of the dictionary is the placeholder node of the graph to be fed,\n",
    "        # and the value is the numpy array to feed to it.\n",
    "        feed_dict = {tf_train_dataset : batch_data, tf_train_labels : batch_labels}\n",
    "        _, l, predictions = session.run(\n",
    "            [optimizer, loss, train_prediction], feed_dict=feed_dict)\n",
    "        if (step % 500 == 0):\n",
    "            print(\"Minibatch loss at step %d: %f\" % (step, l))\n",
    "            print(\"Minibatch accuracy: %.1f%%\" % accuracy(predictions, batch_labels))\n",
    "            print(\"Validation accuracy: %.1f%%\" % accuracy(\n",
    "                valid_prediction.eval(), valid_labels))\n",
    "            print(\"Test accuracy: %.1f%%\" % accuracy(test_prediction.eval(), test_labels))"
   ]
  },
  {
   "cell_type": "markdown",
   "metadata": {},
   "source": [
    "As can be seen above, the test accuracy goes from around 88.8% to 69.7%"
   ]
  },
  {
   "cell_type": "markdown",
   "metadata": {},
   "source": [
    "\n",
    "## Problem 3\n",
    "\n",
    "Introduce Dropout on the hidden layer of the neural network. Remember: Dropout should only be introduced during training, not evaluation, otherwise your evaluation results would be stochastic as well. TensorFlow provides nn.dropout() for that, but you have to make sure it's only inserted during training.\n",
    "\n",
    "What happens to our extreme overfitting case?"
   ]
  },
  {
   "cell_type": "code",
   "execution_count": 14,
   "metadata": {
    "collapsed": true
   },
   "outputs": [],
   "source": [
    "#ANN with introduced dropout\n",
    "#This time we still use the L2 but restrict training dataset\n",
    "#to be extremely small\n",
    "\n",
    "#get just first 500 of examples, so that our ANN can memorize whole dataset\n",
    "train_dataset_2 = train_dataset[:500, :]\n",
    "train_labels_2 = train_labels[:500]\n",
    "\n",
    "#batch size for SGD and beta parameter for L2 loss\n",
    "batch_size = 128\n",
    "beta = 0.001\n",
    "\n",
    "#that's how many hidden neurons we want\n",
    "num_hidden_neurons = 1024\n",
    "\n",
    "#building tensorflow graph\n",
    "graph = tf.Graph()\n",
    "with graph.as_default():\n",
    "    # Input data. For the training data, we use a placeholder that will be fed\n",
    "    # at run time with a training minibatch.\n",
    "    tf_train_dataset = tf.placeholder(tf.float32,\n",
    "                                                                        shape=(batch_size, image_size * image_size))\n",
    "    tf_train_labels = tf.placeholder(tf.float32, shape=(batch_size, num_labels))\n",
    "    tf_valid_dataset = tf.constant(valid_dataset)\n",
    "    tf_test_dataset = tf.constant(test_dataset)\n",
    "\n",
    "    #now let's build our new hidden layer\n",
    "    #its weights\n",
    "    hidden_weights = tf.Variable(\n",
    "        tf.truncated_normal([image_size * image_size, num_hidden_neurons]))\n",
    "    hidden_biases = tf.Variable(tf.zeros([num_hidden_neurons]))\n",
    "\n",
    "    #now the layer itself. It multiplies data by weights, adds biases\n",
    "    #and takes ReLU over result\n",
    "    hidden_layer = tf.nn.relu(tf.matmul(tf_train_dataset, hidden_weights) + hidden_biases)\n",
    "\n",
    "    #add dropout on hidden layer\n",
    "    #we pick up the probabylity of switching off the activation\n",
    "    #and perform the switch off of the activations\n",
    "    keep_prob = tf.placeholder(\"float\")\n",
    "    hidden_layer_drop = tf.nn.dropout(hidden_layer, keep_prob)  \n",
    "\n",
    "    #time to go for output linear layer\n",
    "    #out weights connect hidden neurons to output labels\n",
    "    #biases are added to output labels  \n",
    "    out_weights = tf.Variable(\n",
    "        tf.truncated_normal([num_hidden_neurons, num_labels]))  \n",
    "\n",
    "    out_biases = tf.Variable(tf.zeros([num_labels]))  \n",
    "\n",
    "    #compute output\n",
    "    #notice that upon training we use the switched off activations\n",
    "    #i.e. the variaction of hidden_layer with the dropout active\n",
    "    out_layer = tf.matmul(hidden_layer_drop,out_weights) + out_biases\n",
    "    #our real output is a softmax of prior result\n",
    "    #and we also compute its cross-entropy to get our loss\n",
    "    #Notice - we introduce our L2 here\n",
    "    loss = (tf.reduce_mean(tf.nn.softmax_cross_entropy_with_logits(\n",
    "        out_layer, tf_train_labels) +\n",
    "        beta*tf.nn.l2_loss(hidden_weights) +\n",
    "        beta*tf.nn.l2_loss(hidden_biases) +\n",
    "        beta*tf.nn.l2_loss(out_weights) +\n",
    "        beta*tf.nn.l2_loss(out_biases)))\n",
    "\n",
    "    #now we just minimize this loss to actually train the network\n",
    "    optimizer = tf.train.GradientDescentOptimizer(0.5).minimize(loss)\n",
    "\n",
    "    #nice, now let's calculate the predictions on each dataset for evaluating the\n",
    "    #performance so far\n",
    "    # Predictions for the training, validation, and test data.\n",
    "    train_prediction = tf.nn.softmax(out_layer)\n",
    "    valid_relu = tf.nn.relu(  tf.matmul(tf_valid_dataset, hidden_weights) + hidden_biases)\n",
    "    valid_prediction = tf.nn.softmax( tf.matmul(valid_relu, out_weights) + out_biases) \n",
    "\n",
    "    test_relu = tf.nn.relu( tf.matmul( tf_test_dataset, hidden_weights) + hidden_biases)\n",
    "    test_prediction = tf.nn.softmax(tf.matmul(test_relu, out_weights) + out_biases)"
   ]
  },
  {
   "cell_type": "code",
   "execution_count": 15,
   "metadata": {
    "collapsed": false
   },
   "outputs": [
    {
     "name": "stdout",
     "output_type": "stream",
     "text": [
      "Initialized\n",
      "Minibatch loss at step 0: 851.748352\n",
      "Minibatch accuracy: 6.2%\n",
      "Validation accuracy: 28.3%\n",
      "Test accuracy: 30.3%\n",
      "Minibatch loss at step 500: 191.571823\n",
      "Minibatch accuracy: 100.0%\n",
      "Validation accuracy: 78.1%\n",
      "Test accuracy: 85.5%\n",
      "Minibatch loss at step 1000: 116.229263\n",
      "Minibatch accuracy: 100.0%\n",
      "Validation accuracy: 78.1%\n",
      "Test accuracy: 85.9%\n",
      "Minibatch loss at step 1500: 70.510284\n",
      "Minibatch accuracy: 100.0%\n",
      "Validation accuracy: 77.8%\n",
      "Test accuracy: 85.1%\n",
      "Minibatch loss at step 2000: 42.769566\n",
      "Minibatch accuracy: 100.0%\n",
      "Validation accuracy: 77.9%\n",
      "Test accuracy: 85.5%\n",
      "Minibatch loss at step 2500: 25.939953\n",
      "Minibatch accuracy: 100.0%\n",
      "Validation accuracy: 78.3%\n",
      "Test accuracy: 85.9%\n",
      "Minibatch loss at step 3000: 15.733616\n",
      "Minibatch accuracy: 100.0%\n",
      "Validation accuracy: 78.1%\n",
      "Test accuracy: 85.7%\n"
     ]
    }
   ],
   "source": [
    "#now is the actual training on the ANN we built\n",
    "#we will run it for some number of steps and evaluate the progress after \n",
    "#every 500 steps\n",
    "\n",
    "#number of steps we will train our ANN\n",
    "num_steps = 3001\n",
    "\n",
    "#actual training\n",
    "with tf.Session(graph=graph) as session:\n",
    "    tf.initialize_all_variables().run()\n",
    "    print(\"Initialized\")\n",
    "    for step in range(num_steps):\n",
    "        # Pick an offset within the training data, which has been randomized.\n",
    "        # Note: we could use better randomization across epochs.\n",
    "        offset = (step * batch_size) % (train_labels_2.shape[0] - batch_size)\n",
    "        # Generate a minibatch.\n",
    "        batch_data = train_dataset_2[offset:(offset + batch_size), :]\n",
    "        batch_labels = train_labels_2[offset:(offset + batch_size), :]\n",
    "        # Prepare a dictionary telling the session where to feed the minibatch.\n",
    "        # The key of the dictionary is the placeholder node of the graph to be fed,\n",
    "        # and the value is the numpy array to feed to it.\n",
    "        feed_dict = {tf_train_dataset : batch_data, tf_train_labels : batch_labels, keep_prob : 0.5}\n",
    "        _, l, predictions = session.run(\n",
    "            [optimizer, loss, train_prediction], feed_dict=feed_dict)\n",
    "        if (step % 500 == 0):\n",
    "            print(\"Minibatch loss at step %d: %f\" % (step, l))\n",
    "            print(\"Minibatch accuracy: %.1f%%\" % accuracy(predictions, batch_labels))\n",
    "            print(\"Validation accuracy: %.1f%%\" % accuracy(\n",
    "                valid_prediction.eval(), valid_labels))\n",
    "            print(\"Test accuracy: %.1f%%\" % accuracy(test_prediction.eval(), test_labels))     "
   ]
  },
  {
   "cell_type": "markdown",
   "metadata": {},
   "source": [
    "\n",
    "## Problem 4\n",
    "\n",
    "Try to get the best performance you can using a multi-layer model! The best reported test accuracy using a deep network is 97.1%.\n",
    "\n",
    "One avenue you can explore is to add multiple layers.\n",
    "\n",
    "Another one is to use learning rate decay:"
   ]
  },
  {
   "cell_type": "code",
   "execution_count": 16,
   "metadata": {
    "collapsed": false
   },
   "outputs": [
    {
     "ename": "SyntaxError",
     "evalue": "invalid syntax (<ipython-input-16-226ec7772489>, line 2)",
     "output_type": "error",
     "traceback": [
      "\u001b[0;36m  File \u001b[0;32m\"<ipython-input-16-226ec7772489>\"\u001b[0;36m, line \u001b[0;32m2\u001b[0m\n\u001b[0;31m    learning_rate = tf.train.exponential_decay(0.5, global_step, ...)\u001b[0m\n\u001b[0m                                                                 ^\u001b[0m\n\u001b[0;31mSyntaxError\u001b[0m\u001b[0;31m:\u001b[0m invalid syntax\n"
     ]
    }
   ],
   "source": [
    "global_step = tf.Variable(0)  # count the number of steps taken.\n",
    "learning_rate = tf.train.exponential_decay(0.5, global_step, ...)\n",
    "optimizer = tf.train.GradientDescentOptimizer(learning_rate).minimize(loss, global_step=global_step)"
   ]
  },
  {
   "cell_type": "code",
   "execution_count": null,
   "metadata": {
    "collapsed": true
   },
   "outputs": [],
   "source": []
  }
 ],
 "metadata": {
  "kernelspec": {
   "display_name": "Python 2",
   "language": "python",
   "name": "python2"
  },
  "language_info": {
   "codemirror_mode": {
    "name": "ipython",
    "version": 2
   },
   "file_extension": ".py",
   "mimetype": "text/x-python",
   "name": "python",
   "nbconvert_exporter": "python",
   "pygments_lexer": "ipython2",
   "version": "2.7.12"
  }
 },
 "nbformat": 4,
 "nbformat_minor": 0
}
